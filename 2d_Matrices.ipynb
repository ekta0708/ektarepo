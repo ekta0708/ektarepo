{
  "nbformat": 4,
  "nbformat_minor": 0,
  "metadata": {
    "colab": {
      "provenance": [],
      "authorship_tag": "ABX9TyNhNiwPow0AjpDgQEnPU541",
      "include_colab_link": true
    },
    "kernelspec": {
      "name": "python3",
      "display_name": "Python 3"
    },
    "language_info": {
      "name": "python"
    }
  },
  "cells": [
    {
      "cell_type": "markdown",
      "metadata": {
        "id": "view-in-github",
        "colab_type": "text"
      },
      "source": [
        "<a href=\"https://colab.research.google.com/github/ekta0708/ektarepo/blob/master/2d_Matrices.ipynb\" target=\"_parent\"><img src=\"https://colab.research.google.com/assets/colab-badge.svg\" alt=\"Open In Colab\"/></a>"
      ]
    },
    {
      "cell_type": "code",
      "execution_count": null,
      "metadata": {
        "id": "gyYQBtSKbGEM"
      },
      "outputs": [],
      "source": []
    },
    {
      "cell_type": "markdown",
      "source": [
        "Column-sum\n",
        "You are given a 2D integer matrix A, return a 1D integer array containing column-wise sums of original matrix."
      ],
      "metadata": {
        "id": "-AqlfmelbQK_"
      }
    },
    {
      "cell_type": "code",
      "source": [
        "class Solution:\n",
        "    def solve(self, A):\n",
        "      rows=len(A)\n",
        "      cols=len(A[0])\n",
        "      col_sum_array=[]\n",
        "      for i in range(cols):\n",
        "        col_sum=0\n",
        "        for j in range(rows):\n",
        "          col_sum+=A[j][i]\n",
        "        col_sum_array.append(col_sum)\n",
        "\n",
        "      return col_sum_array   \n",
        "\n",
        "\n",
        "\n",
        "      \n"
      ],
      "metadata": {
        "id": "c3yJj1rGbUb6"
      },
      "execution_count": 11,
      "outputs": []
    },
    {
      "cell_type": "code",
      "source": [
        "A=[[1,2,3,4],\n",
        "   [5,6,7,8],\n",
        "   [9,2,3,4]]"
      ],
      "metadata": {
        "id": "UCxj1h6hblLh"
      },
      "execution_count": 12,
      "outputs": []
    },
    {
      "cell_type": "code",
      "source": [
        "s=Solution()\n",
        "s.solve(A)"
      ],
      "metadata": {
        "colab": {
          "base_uri": "https://localhost:8080/"
        },
        "id": "McO9gvJfbqYi",
        "outputId": "e377b4e9-717a-4e09-f297-67c777f99307"
      },
      "execution_count": 13,
      "outputs": [
        {
          "output_type": "execute_result",
          "data": {
            "text/plain": [
              "[15, 10, 13, 16]"
            ]
          },
          "metadata": {},
          "execution_count": 13
        }
      ]
    },
    {
      "cell_type": "markdown",
      "source": [
        "Row-wise addition\n",
        "You are given a 2D integer matrix A, return a 1D integer array containing row-wise sums of original matrix."
      ],
      "metadata": {
        "id": "pfNgvtEic9j8"
      }
    },
    {
      "cell_type": "code",
      "source": [
        "class Solution:\n",
        "    def solve(self, A):\n",
        "      rows=len(A)\n",
        "      cols=len(A[0])\n",
        "      row_sum_array=[]\n",
        "\n",
        "      for i in range(rows):\n",
        "        row_sum=0\n",
        "        for j in range(cols):\n",
        "          row_sum+=A[i][j]\n",
        "        row_sum_array.append(row_sum)\n",
        "\n",
        "      return row_sum_array    \n"
      ],
      "metadata": {
        "id": "q9e1g7ysdG3S"
      },
      "execution_count": 14,
      "outputs": []
    },
    {
      "cell_type": "code",
      "source": [
        "s=Solution()\n",
        "s.solve(A)"
      ],
      "metadata": {
        "colab": {
          "base_uri": "https://localhost:8080/"
        },
        "id": "7uYUmCDvdpPF",
        "outputId": "d59be079-9594-4016-fe92-3d0ca7c86cdd"
      },
      "execution_count": 15,
      "outputs": [
        {
          "output_type": "execute_result",
          "data": {
            "text/plain": [
              "[10, 26, 18]"
            ]
          },
          "metadata": {},
          "execution_count": 15
        }
      ]
    },
    {
      "cell_type": "code",
      "source": [],
      "metadata": {
        "id": "yI_k6tr8dtrz"
      },
      "execution_count": null,
      "outputs": []
    },
    {
      "cell_type": "markdown",
      "source": [
        "Main Diagnonal Sum\n",
        "You are given a N X N integer matrix. You have to find the sum of all the main diagonal elements of A.\n",
        "\n",
        "Main diagonal of a matrix A is a collection of elements A[i, j] such that i = j."
      ],
      "metadata": {
        "id": "F0i_wxcQd_Mx"
      }
    },
    {
      "cell_type": "code",
      "source": [
        "#BF\n",
        "class Solution:\n",
        "    def solve(self, A):\n",
        "      N=len(A)\n",
        "      rows,columns=N,N\n",
        "      sum=0\n",
        "      for i in range(N):\n",
        "        for j in range(N):\n",
        "          if i==j:\n",
        "            sum+=A[i][j]\n",
        "\n",
        "      return sum     \n",
        "\n"
      ],
      "metadata": {
        "id": "3dxexk0JeFH2"
      },
      "execution_count": 22,
      "outputs": []
    },
    {
      "cell_type": "code",
      "source": [
        "A = [[1, -2, -3],\n",
        "      [-4, 5, -6],\n",
        "      [-7, -8, 9]]\n"
      ],
      "metadata": {
        "id": "bb7lafyVfJTK"
      },
      "execution_count": 23,
      "outputs": []
    },
    {
      "cell_type": "code",
      "source": [
        "s=Solution()\n",
        "s.solve(A)"
      ],
      "metadata": {
        "colab": {
          "base_uri": "https://localhost:8080/"
        },
        "id": "wcBX898ZeyCJ",
        "outputId": "ab16b936-35fb-4933-f8b4-1556b7242ec5"
      },
      "execution_count": 21,
      "outputs": [
        {
          "output_type": "execute_result",
          "data": {
            "text/plain": [
              "15"
            ]
          },
          "metadata": {},
          "execution_count": 21
        }
      ]
    },
    {
      "cell_type": "code",
      "source": [
        "#Optimised-Approach1\n",
        "class Solution:\n",
        "    def solve(self, A):\n",
        "      N=len(A)\n",
        "      sum=0\n",
        "      for i in range(N):\n",
        "        sum=sum+A[i][i]\n",
        "\n",
        "      return sum     \n",
        "\n"
      ],
      "metadata": {
        "id": "YS3w0V4dfO54"
      },
      "execution_count": 24,
      "outputs": []
    },
    {
      "cell_type": "markdown",
      "source": [],
      "metadata": {
        "id": "fUVWhBvGihT0"
      }
    },
    {
      "cell_type": "code",
      "source": [
        "s=Solution()\n",
        "s.solve(A)"
      ],
      "metadata": {
        "colab": {
          "base_uri": "https://localhost:8080/"
        },
        "id": "_ZOfE0X8fu-8",
        "outputId": "64e4ac6d-bb1e-4d0f-b03d-4d97a0084215"
      },
      "execution_count": 25,
      "outputs": [
        {
          "output_type": "execute_result",
          "data": {
            "text/plain": [
              "15"
            ]
          },
          "metadata": {},
          "execution_count": 25
        }
      ]
    },
    {
      "cell_type": "code",
      "source": [
        "#Optimised-Approach2 L->R\n",
        "class Solution:\n",
        "    def solve(self, A):\n",
        "      N=len(A)\n",
        "      sum=0\n",
        "      i=0\n",
        "      j=0\n",
        "      while(i<N and j<N):\n",
        "        sum=sum+A[i][j]\n",
        "        i+=1\n",
        "        j+=1\n",
        "\n",
        "      return sum     \n",
        "\n"
      ],
      "metadata": {
        "id": "waQ8yhrhfw0a"
      },
      "execution_count": 28,
      "outputs": []
    },
    {
      "cell_type": "code",
      "source": [
        "s=Solution()\n",
        "s.solve(A)"
      ],
      "metadata": {
        "colab": {
          "base_uri": "https://localhost:8080/"
        },
        "id": "teBgW8RdglgQ",
        "outputId": "9483e5a2-9076-4945-a59a-1653a36c1c9b"
      },
      "execution_count": 29,
      "outputs": [
        {
          "output_type": "execute_result",
          "data": {
            "text/plain": [
              "15"
            ]
          },
          "metadata": {},
          "execution_count": 29
        }
      ]
    },
    {
      "cell_type": "code",
      "source": [
        "#Optimised-Approach2 R ->L\n",
        "class Solution:\n",
        "    def solve(self, A):\n",
        "      N=len(A)\n",
        "      sum=0\n",
        "      i=0\n",
        "      j=N-1\n",
        "      while(i<N and j>=0):\n",
        "        sum=sum+A[i][j]\n",
        "        i+=1\n",
        "        j-=1\n",
        "\n",
        "      return sum     \n",
        "\n"
      ],
      "metadata": {
        "id": "Gdsb9jpignFt"
      },
      "execution_count": 31,
      "outputs": []
    },
    {
      "cell_type": "code",
      "source": [
        "A"
      ],
      "metadata": {
        "colab": {
          "base_uri": "https://localhost:8080/"
        },
        "id": "ArQpbVIzg8Fj",
        "outputId": "ff107a63-77f2-46d8-eb50-d1d2ed3ea142"
      },
      "execution_count": 32,
      "outputs": [
        {
          "output_type": "execute_result",
          "data": {
            "text/plain": [
              "[[1, -2, -3], [-4, 5, -6], [-7, -8, 9]]"
            ]
          },
          "metadata": {},
          "execution_count": 32
        }
      ]
    },
    {
      "cell_type": "code",
      "source": [
        "s=Solution()\n",
        "s.solve(A)"
      ],
      "metadata": {
        "colab": {
          "base_uri": "https://localhost:8080/"
        },
        "id": "-CTRTEzeg_TD",
        "outputId": "edeca1d8-b528-4a60-fb25-b25af5f5533c"
      },
      "execution_count": 35,
      "outputs": [
        {
          "output_type": "execute_result",
          "data": {
            "text/plain": [
              "-5"
            ]
          },
          "metadata": {},
          "execution_count": 35
        }
      ]
    },
    {
      "cell_type": "code",
      "source": [],
      "metadata": {
        "id": "SpMr-17mhDGM"
      },
      "execution_count": null,
      "outputs": []
    },
    {
      "cell_type": "markdown",
      "source": [
        "Minor diagnoal Sum\n",
        "You are given a N X N integer matrix. You have to find the sum of all the minor diagonal elements of A.\n",
        "\n",
        "Minor diagonal of a M X M matrix A is a collection of elements A[i, j] such that i + j = M + 1 (where i, j are 1-based).\n",
        "\n",
        "(Seems like diagnoal R--> L)"
      ],
      "metadata": {
        "id": "SZURADMvijui"
      }
    },
    {
      "cell_type": "code",
      "source": [
        "class Solution:\n",
        "    def solve(self, A):\n",
        "      N=len(A)\n",
        "      i=0\n",
        "      j=N-1\n",
        "      sum=0\n",
        "      while(i<N and j>=0):\n",
        "        sum=sum+A[i][j]\n",
        "        i+=1\n",
        "        j-=1\n",
        "\n",
        "      return sum  \n"
      ],
      "metadata": {
        "id": "KYy70n3Ki3tu"
      },
      "execution_count": 39,
      "outputs": []
    },
    {
      "cell_type": "code",
      "source": [
        "A = [[1, -2, -3],\n",
        "      [-4, 5, -6],\n",
        "      [-7, -8, 9]]\n"
      ],
      "metadata": {
        "id": "OON3FlARkLAe"
      },
      "execution_count": 40,
      "outputs": []
    },
    {
      "cell_type": "code",
      "source": [
        "s=Solution()\n",
        "s.solve(A)"
      ],
      "metadata": {
        "colab": {
          "base_uri": "https://localhost:8080/"
        },
        "id": "-rtSzVyZkPSF",
        "outputId": "2ce2e4ac-0832-41ad-826f-cfad9f85dc64"
      },
      "execution_count": 41,
      "outputs": [
        {
          "output_type": "execute_result",
          "data": {
            "text/plain": [
              "-5"
            ]
          },
          "metadata": {},
          "execution_count": 41
        }
      ]
    },
    {
      "cell_type": "code",
      "source": [],
      "metadata": {
        "id": "2MBuelBEkT_Q"
      },
      "execution_count": null,
      "outputs": []
    },
    {
      "cell_type": "markdown",
      "source": [
        "Given a matrix M*N, print all diagonal elements from R->L. Diagonal starting from 0th rows or (M-1)th column"
      ],
      "metadata": {
        "id": "rmfy2MmypTrn"
      }
    },
    {
      "cell_type": "code",
      "source": [
        "def printD(A):\n",
        "  N=len(A)\n",
        "  M=len(A[0])\n",
        "  #Print all diagonals starting from 0th row\n",
        "  for j in range(M):\n",
        "    r=0\n",
        "    c=j\n",
        "    while (r<N and c>=0):\n",
        "      print(A[r][c], end =\" \")\n",
        "      r+=1\n",
        "      c-=1\n",
        "    print()\n",
        "\n",
        "  #print all diagonal starting from (M-1)th column\n",
        "\n",
        "  for j in range(1,N):\n",
        "    r=j\n",
        "    c=M-1\n",
        "    while (r<N and c>=0):\n",
        "      print(A[r][c],end=\" \")\n",
        "      r+=1\n",
        "      c-=1\n",
        "    print()  \n",
        "\n"
      ],
      "metadata": {
        "id": "l7E-EWAcpnhi"
      },
      "execution_count": 7,
      "outputs": []
    },
    {
      "cell_type": "code",
      "source": [
        "A=[[1,2,3,4,5,6],\n",
        "   [7,8,9,10,11,12],\n",
        "   [13,14,15,16,17,18],\n",
        "   [19,20,21,22,23,24]\n",
        "   ]"
      ],
      "metadata": {
        "id": "gz4-_XSKq6xC"
      },
      "execution_count": 8,
      "outputs": []
    },
    {
      "cell_type": "code",
      "source": [
        "printD(A)"
      ],
      "metadata": {
        "colab": {
          "base_uri": "https://localhost:8080/"
        },
        "id": "0Av3QSBGq8y0",
        "outputId": "b755dd1d-6861-4687-a271-80bdd16128b2"
      },
      "execution_count": 9,
      "outputs": [
        {
          "output_type": "stream",
          "name": "stdout",
          "text": [
            "1 \n",
            "2 7 \n",
            "3 8 13 \n",
            "4 9 14 19 \n",
            "5 10 15 20 \n",
            "6 11 16 21 \n",
            "12 17 22 \n",
            "18 23 \n",
            "24 \n"
          ]
        }
      ]
    },
    {
      "cell_type": "code",
      "source": [],
      "metadata": {
        "colab": {
          "base_uri": "https://localhost:8080/"
        },
        "id": "BX_L6Ro_q_W7",
        "outputId": "a27ec5d1-3ef5-43a2-c24b-6cd9207a9043"
      },
      "execution_count": 10,
      "outputs": [
        {
          "output_type": "execute_result",
          "data": {
            "text/plain": [
              "7"
            ]
          },
          "metadata": {},
          "execution_count": 10
        }
      ]
    },
    {
      "cell_type": "markdown",
      "source": [
        "The above structure is also called the anti-diagonals of Matrix A"
      ],
      "metadata": {
        "id": "MAGaPUwJk1xX"
      }
    },
    {
      "cell_type": "markdown",
      "source": [
        "Lets deal with Square matrix now.\n",
        "Give a N * N square matrix A, return an array of its anti-diagonals. Look at the example for more details.\n",
        "INPUT:\n",
        "First argument is an integer N, denoting the size of square 2D matrix.\n",
        "Second argument is a 2D array A of size N * N.\n",
        "OUTPUT:\n",
        "Return a 2D integer array of size (2 * N-1) * N, representing the anti-diagonals of input array A.\n",
        "The vacant spaces in the grid should be assigned to 0."
      ],
      "metadata": {
        "id": "yMG_hZhglANF"
      }
    },
    {
      "cell_type": "markdown",
      "source": [
        "3\n",
        "1 2 3\n",
        "4 5 6\n",
        "7 8 9"
      ],
      "metadata": {
        "id": "x5I0iC_Ll5D0"
      }
    },
    {
      "cell_type": "markdown",
      "source": [
        "1 0 0\n",
        "2 4 0\n",
        "3 5 7\n",
        "6 8 0\n",
        "9 0 0"
      ],
      "metadata": {
        "id": "zrGw_I-Rl-5b"
      }
    },
    {
      "cell_type": "code",
      "source": [
        "class Solution:\n",
        "    def diagonal(self, A):\n",
        "      N= A[0]\n",
        "      print(N)\n",
        "      rows=[]\n",
        "      len_array=len(A)\n",
        "      index=1\n",
        "      while(index!=len_array):\n",
        "        for i in range(N):\n",
        "          cols=[]\n",
        "          for j in range(N):\n",
        "            cols.append(A[index])\n",
        "            index+=1\n",
        "          rows.append(cols)\n",
        "\n",
        "\n",
        "      return rows  \n",
        "\n",
        "\n"
      ],
      "metadata": {
        "id": "c7ypVzo4l3Fw"
      },
      "execution_count": 29,
      "outputs": []
    },
    {
      "cell_type": "code",
      "source": [
        "A = [3,1,2,3,4,5,6,7,8,9]\n",
        "s=Solution()\n",
        "arr1 = s.diagonal(A)\n",
        "print(arr1)"
      ],
      "metadata": {
        "colab": {
          "base_uri": "https://localhost:8080/"
        },
        "id": "jfjfGpX5nhL-",
        "outputId": "da8b70c0-6db5-4c82-abc7-9419fce8f9f2"
      },
      "execution_count": 31,
      "outputs": [
        {
          "output_type": "stream",
          "name": "stdout",
          "text": [
            "3\n"
          ]
        }
      ]
    },
    {
      "cell_type": "code",
      "source": [
        "print(arr1)"
      ],
      "metadata": {
        "colab": {
          "base_uri": "https://localhost:8080/"
        },
        "id": "rt80KRmpqUss",
        "outputId": "8a45a4c3-e2ea-4a26-bf80-9bc137252a1a"
      },
      "execution_count": 32,
      "outputs": [
        {
          "output_type": "stream",
          "name": "stdout",
          "text": [
            "[[1, 2, 3], [4, 5, 6], [7, 8, 9]]\n"
          ]
        }
      ]
    },
    {
      "cell_type": "code",
      "source": [
        "#Print Anti diagonals elements of a N*N matrix\n",
        "class Solution:\n",
        "    def diagonal(self, A):\n",
        "      N=len(A)\n",
        "\n",
        "      #print all diag elements starting from 0th row\n",
        "      rows=[]\n",
        "      for i in range(N):\n",
        "        r=0\n",
        "        c=i\n",
        "        counter=0\n",
        "        cols=[]\n",
        "        while(r<N and c>=0):\n",
        "          #print(A[r][c], end=\" \")\n",
        "          cols.append(A[r][c])\n",
        "          r+=1\n",
        "          c-=1\n",
        "          counter+=1\n",
        "        #print(\"0 \" *(N-counter))  \n",
        "        for k in range(N-counter):\n",
        "          cols.append(0) \n",
        "        rows.append(cols)  \n",
        "        #print(rows)   \n",
        "      #print all diag elements starting from (M-1)th column\n",
        "      \n",
        "      for i in range(1,N):\n",
        "        c=N-1\n",
        "        r=i\n",
        "        counter =0\n",
        "        cols=[]\n",
        "        while(r<N and c>=0):\n",
        "          #print(A[r][c],end =\" \")\n",
        "          cols.append(A[r][c])\n",
        "          r+=1\n",
        "          c-=1\n",
        "          counter+=1 \n",
        "        #print(\"0 \"*(N-counter))\n",
        "        for k in range(N-counter):\n",
        "          cols.append(0) \n",
        "        rows.append(cols) \n",
        "      \n",
        "      return rows\n",
        "      \n",
        "        \n"
      ],
      "metadata": {
        "id": "brczmqPGq5ok"
      },
      "execution_count": 78,
      "outputs": []
    },
    {
      "cell_type": "code",
      "source": [
        "s=Solution()\n",
        "s.diagonal(arr1)"
      ],
      "metadata": {
        "colab": {
          "base_uri": "https://localhost:8080/"
        },
        "id": "4ogK-s9nsiDc",
        "outputId": "fcd22637-09d0-4ecd-805e-026e1a18b39d"
      },
      "execution_count": 79,
      "outputs": [
        {
          "output_type": "execute_result",
          "data": {
            "text/plain": [
              "[[1, 0, 0], [2, 4, 0], [3, 5, 7], [6, 8, 0], [9, 0, 0]]"
            ]
          },
          "metadata": {},
          "execution_count": 79
        }
      ]
    },
    {
      "cell_type": "code",
      "source": [],
      "metadata": {
        "id": "LgAP7BGkswls"
      },
      "execution_count": null,
      "outputs": []
    },
    {
      "cell_type": "markdown",
      "source": [
        "Transpose of a matrix\n",
        "You are given a matrix A, you have to return another matrix which is the transpose of A.\n",
        "\n",
        "NOTE: Transpose of a matrix A is defined as - AT[i][j] = A[j][i] ; Where 1 ≤ i ≤ col and 1 ≤ j ≤ row. The tranpose of a matrix switches the element at (i, j)th index to (j, i)th index, and the element at (j, i)th index to (i, j)th index.\n",
        "\n"
      ],
      "metadata": {
        "id": "wVEUs84uIqsc"
      }
    },
    {
      "cell_type": "code",
      "source": [
        "A = [[1, 2, 3],[4, 5, 6],[7, 8, 9]]"
      ],
      "metadata": {
        "id": "Ta9aXw7GIwTk"
      },
      "execution_count": 80,
      "outputs": []
    },
    {
      "cell_type": "code",
      "source": [
        "A_t= [[1, 4, 7], [2, 5, 8], [3, 6, 9]]\n"
      ],
      "metadata": {
        "id": "LcubhtT3IzjQ"
      },
      "execution_count": 81,
      "outputs": []
    },
    {
      "cell_type": "code",
      "source": [
        "#Transpose of a square matrix\n",
        "class Solution:\n",
        "    def solve(self, A):\n",
        "      N=len(A)\n",
        "      print(N)\n",
        "      for i in range(N):\n",
        "        for j in range(i):\n",
        "          temp=A[i][j]\n",
        "          A[i][j]=A[j][i]\n",
        "          A[j][i] = temp\n",
        "\n",
        "      return A    \n",
        "          \n"
      ],
      "metadata": {
        "id": "gwgnE_1UI56H"
      },
      "execution_count": 90,
      "outputs": []
    },
    {
      "cell_type": "code",
      "source": [
        "A = [[1, 2, 3],[4, 5, 6],[7, 8, 9]]\n",
        "s= Solution()\n",
        "s.solve(A)"
      ],
      "metadata": {
        "colab": {
          "base_uri": "https://localhost:8080/"
        },
        "id": "ApESrlMXJeDD",
        "outputId": "41d4dcda-3979-4ec7-a274-f6877ea17c4a"
      },
      "execution_count": 91,
      "outputs": [
        {
          "output_type": "stream",
          "name": "stdout",
          "text": [
            "3\n"
          ]
        },
        {
          "output_type": "execute_result",
          "data": {
            "text/plain": [
              "[[1, 4, 7], [2, 5, 8], [3, 6, 9]]"
            ]
          },
          "metadata": {},
          "execution_count": 91
        }
      ]
    },
    {
      "cell_type": "code",
      "source": [
        "#Transpose of a Rectangular matrix -- You need space for an extra matrix\n",
        "class Solution:\n",
        "    def solve(self, A):\n",
        "      rows=len(A)\n",
        "      cols=len(A[0])\n",
        "      N,M=rows,cols\n",
        "      \n",
        "      B_rows=[]\n",
        "      print(N,M)\n",
        "      #Create a matrix B of M*N\n",
        "      for i in range(M):\n",
        "        B_cols=[]\n",
        "        for j in range(N):\n",
        "          B_cols.append(0)\n",
        "        B_rows.append(B_cols) \n",
        "\n",
        "\n",
        "      #Transpose original matrix now\n",
        "      for i in range(N):\n",
        "        for j in range(M):\n",
        "          B_rows[j][i] = A[i][j]\n",
        "\n",
        "      return B_rows      \n"
      ],
      "metadata": {
        "id": "-FgDObErK5QI"
      },
      "execution_count": 117,
      "outputs": []
    },
    {
      "cell_type": "code",
      "source": [
        "A=[[1,2,3],[4,5,6],[7,8,9],[10,11,12]]\n",
        "s=Solution()\n",
        "s.solve(A)"
      ],
      "metadata": {
        "colab": {
          "base_uri": "https://localhost:8080/"
        },
        "id": "Bpp9B1itQ3qD",
        "outputId": "4387564f-a457-47ca-c1f8-856674bee9c8"
      },
      "execution_count": 119,
      "outputs": [
        {
          "output_type": "stream",
          "name": "stdout",
          "text": [
            "4 3\n"
          ]
        },
        {
          "output_type": "execute_result",
          "data": {
            "text/plain": [
              "[[1, 4, 7, 10], [2, 5, 8, 11], [3, 6, 9, 12]]"
            ]
          },
          "metadata": {},
          "execution_count": 119
        }
      ]
    },
    {
      "cell_type": "code",
      "source": [
        "#How to create a 2D list\n",
        "rows=4\n",
        "cols=3\n",
        "[[0 for i in range(cols)] for j in range(rows)]\n"
      ],
      "metadata": {
        "colab": {
          "base_uri": "https://localhost:8080/"
        },
        "id": "L3yTroQKMn-8",
        "outputId": "34a75240-7a92-4ec1-c78d-7554399d3e70"
      },
      "execution_count": 121,
      "outputs": [
        {
          "output_type": "execute_result",
          "data": {
            "text/plain": [
              "[[0, 0, 0], [0, 0, 0], [0, 0, 0], [0, 0, 0]]"
            ]
          },
          "metadata": {},
          "execution_count": 121
        }
      ]
    },
    {
      "cell_type": "code",
      "source": [
        "[0]*cols"
      ],
      "metadata": {
        "colab": {
          "base_uri": "https://localhost:8080/"
        },
        "id": "7uOtc2lOWoBM",
        "outputId": "5afdf60d-65eb-4a50-bb97-8a7f3a9d9b77"
      },
      "execution_count": 122,
      "outputs": [
        {
          "output_type": "execute_result",
          "data": {
            "text/plain": [
              "[0, 0, 0]"
            ]
          },
          "metadata": {},
          "execution_count": 122
        }
      ]
    },
    {
      "cell_type": "code",
      "source": [
        "[[0]*cols] *rows"
      ],
      "metadata": {
        "colab": {
          "base_uri": "https://localhost:8080/"
        },
        "id": "dl7q0j-bWz9R",
        "outputId": "70a5213a-68cc-48af-b217-1d17ba986011"
      },
      "execution_count": 124,
      "outputs": [
        {
          "output_type": "execute_result",
          "data": {
            "text/plain": [
              "[[0, 0, 0], [0, 0, 0], [0, 0, 0], [0, 0, 0]]"
            ]
          },
          "metadata": {},
          "execution_count": 124
        }
      ]
    },
    {
      "cell_type": "code",
      "source": [
        "#Without initialising the 2d list to 0\n",
        "#Better approach\n",
        "\n",
        "class Solution:\n",
        "    def solve(self, A):\n",
        "        ans = []\n",
        "        for i in range(0,len(A[0])):\n",
        "            temp = []\n",
        "            for j in range(0,len(A)):\n",
        "                temp.append(A[j][i])\n",
        "            ans.append(temp)\n",
        "        return ans\n"
      ],
      "metadata": {
        "id": "BSZqv2V7W6D6"
      },
      "execution_count": null,
      "outputs": []
    },
    {
      "cell_type": "code",
      "source": [
        "#Reverse an array\n",
        "A=[1,2,3,4,5,6,7,8]\n",
        "N=len(A)\n",
        "j=N//2\n",
        "print(N)\n",
        "i=0\n",
        "while(i<j):\n",
        "  #print(i, A[i], N-1-i)\n",
        "  temp=A[i]\n",
        "  A[i] = A[N-1-i]\n",
        "  A[N-1-i] = temp\n",
        "  i+=1\n",
        "\n",
        "print(A)"
      ],
      "metadata": {
        "colab": {
          "base_uri": "https://localhost:8080/"
        },
        "id": "CdwKyLH1dyV1",
        "outputId": "011ab026-5ce3-4e3b-be84-ce050a2cb88b"
      },
      "execution_count": 136,
      "outputs": [
        {
          "output_type": "stream",
          "name": "stdout",
          "text": [
            "8\n",
            "0 1 7\n",
            "1 2 6\n",
            "2 3 5\n",
            "3 4 4\n",
            "[8, 7, 6, 5, 4, 3, 2, 1]\n"
          ]
        }
      ]
    },
    {
      "cell_type": "markdown",
      "source": [
        "You are given a n x n 2D matrix A representing an image.\n",
        "\n",
        "Rotate the image by 90 degrees (clockwise).\n",
        "\n",
        "You need to do this in place.\n",
        "\n",
        "Solution: Step1: Transpose the matrix\n",
        "Step2: Reverse each row"
      ],
      "metadata": {
        "id": "WJzOrVGviBK7"
      }
    },
    {
      "cell_type": "code",
      "source": [
        "\n",
        "class Solution:\n",
        "  def solve(self, A):\n",
        "    #Transpose of A\n",
        "    N=len(A)\n",
        "\n",
        "    for i in range(N):\n",
        "      for j in range(i,N):\n",
        "        temp=A[i][j]\n",
        "        A[i][j] = A[j][i]\n",
        "        A[j][i] = temp\n",
        "    #print(A)    \n",
        "\n",
        "    #Reverse each row of the Transposed matrix\n",
        "    for i in range(N):\n",
        "      k=0\n",
        "      j=N//2\n",
        "\n",
        "      while(k<j):\n",
        "        temp=A[i][k]\n",
        "        A[i][k] = A[i][N-1-k]\n",
        "        A[i][N-1-k] = temp\n",
        "        \n",
        "        k+=1\n",
        "\n",
        "    return A    \n",
        "\n"
      ],
      "metadata": {
        "id": "masYLrB3ihGU"
      },
      "execution_count": 148,
      "outputs": []
    },
    {
      "cell_type": "code",
      "source": [
        "#A=[[1,2,3],[4,5,6],[7,8,9]]\n",
        "A=[[1,2],[3,4]]\n",
        "s=Solution()\n",
        "s.solve(A)"
      ],
      "metadata": {
        "colab": {
          "base_uri": "https://localhost:8080/"
        },
        "id": "j3MAiM2W5-t3",
        "outputId": "4aa83f0d-955d-47ff-d8ce-e2b886364405"
      },
      "execution_count": 149,
      "outputs": [
        {
          "output_type": "stream",
          "name": "stdout",
          "text": [
            "[[1, 3], [2, 4]]\n"
          ]
        },
        {
          "output_type": "execute_result",
          "data": {
            "text/plain": [
              "[[3, 1], [4, 2]]"
            ]
          },
          "metadata": {},
          "execution_count": 149
        }
      ]
    },
    {
      "cell_type": "code",
      "source": [],
      "metadata": {
        "id": "fvM-olJe6GZt"
      },
      "execution_count": 145,
      "outputs": []
    }
  ]
}