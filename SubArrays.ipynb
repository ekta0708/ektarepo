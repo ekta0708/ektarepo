{
  "nbformat": 4,
  "nbformat_minor": 0,
  "metadata": {
    "colab": {
      "provenance": [],
      "authorship_tag": "ABX9TyN8RlC4tDpZKrnOaDJpetmw",
      "include_colab_link": true
    },
    "kernelspec": {
      "name": "python3",
      "display_name": "Python 3"
    },
    "language_info": {
      "name": "python"
    }
  },
  "cells": [
    {
      "cell_type": "markdown",
      "metadata": {
        "id": "view-in-github",
        "colab_type": "text"
      },
      "source": [
        "<a href=\"https://colab.research.google.com/github/ekta0708/ektarepo/blob/master/SubArrays.ipynb\" target=\"_parent\"><img src=\"https://colab.research.google.com/assets/colab-badge.svg\" alt=\"Open In Colab\"/></a>"
      ]
    },
    {
      "cell_type": "code",
      "execution_count": null,
      "metadata": {
        "id": "e_huZXP0F8NO"
      },
      "outputs": [],
      "source": [
        "A=[6,8,-1,7]"
      ]
    },
    {
      "cell_type": "code",
      "source": [
        "#Print all sub-arrays of an array"
      ],
      "metadata": {
        "id": "hhfoIxhwGC6K"
      },
      "execution_count": null,
      "outputs": []
    },
    {
      "cell_type": "code",
      "source": [
        "def printAll(A):\n",
        "  N=len(A)\n",
        "  for i in range(N):\n",
        "    for j in range(i,N):\n",
        "      for k in range(i,j+1):\n",
        "        print(A[k], end=\" \")\n",
        "      print()  \n",
        "    \n",
        "   "
      ],
      "metadata": {
        "id": "dsj2j1ifGGkI"
      },
      "execution_count": null,
      "outputs": []
    },
    {
      "cell_type": "code",
      "source": [
        "printAll(A)"
      ],
      "metadata": {
        "colab": {
          "base_uri": "https://localhost:8080/"
        },
        "id": "s-hv6G7UGVuV",
        "outputId": "45c1e35c-5cee-4919-90dd-d17de377a991"
      },
      "execution_count": null,
      "outputs": [
        {
          "output_type": "stream",
          "name": "stdout",
          "text": [
            "6 \n",
            "6 8 \n",
            "6 8 -1 \n",
            "6 8 -1 7 \n",
            "8 \n",
            "8 -1 \n",
            "8 -1 7 \n",
            "-1 \n",
            "-1 7 \n",
            "7 \n"
          ]
        }
      ]
    },
    {
      "cell_type": "code",
      "source": [
        "#Given an array, print every subArray Sum.\n",
        "#Approach1"
      ],
      "metadata": {
        "id": "rfhfmiDiGYQe"
      },
      "execution_count": null,
      "outputs": []
    },
    {
      "cell_type": "code",
      "source": [
        "A=[6,8,-1,7]"
      ],
      "metadata": {
        "id": "Nhj9FOAJKT9g"
      },
      "execution_count": null,
      "outputs": []
    },
    {
      "cell_type": "code",
      "source": [
        "sum=0\n",
        "N=len(A)\n",
        "for i in range(N):\n",
        "  \n",
        "  for j in range(i,N):\n",
        "    sum=0\n",
        "    for k in range(i,j+1):\n",
        "      sum+=A[k]\n",
        "\n",
        "    print(sum)\n",
        "    \n"
      ],
      "metadata": {
        "colab": {
          "base_uri": "https://localhost:8080/"
        },
        "id": "eSCqXVeBKHD6",
        "outputId": "749e4365-60a3-4d64-9f7a-aa1fb995eba7"
      },
      "execution_count": null,
      "outputs": [
        {
          "output_type": "stream",
          "name": "stdout",
          "text": [
            "6\n",
            "14\n",
            "13\n",
            "20\n",
            "8\n",
            "7\n",
            "14\n",
            "-1\n",
            "6\n",
            "7\n"
          ]
        }
      ]
    },
    {
      "cell_type": "code",
      "source": [
        "#TC: O(N**3)\n",
        "#SC: O(1)"
      ],
      "metadata": {
        "id": "ILqDWMPcK_pO"
      },
      "execution_count": null,
      "outputs": []
    },
    {
      "cell_type": "code",
      "source": [
        "#Approach2 - Using Prefix sum"
      ],
      "metadata": {
        "id": "JCZu2XzBLGrA"
      },
      "execution_count": null,
      "outputs": []
    },
    {
      "cell_type": "code",
      "source": [
        "#Create a PS:\n",
        "PS=[0 for i in range(N)]\n",
        "print(PS)\n",
        "sum=0\n",
        "for i in range(N):\n",
        "  sum=sum+A[i]\n",
        "  PS[i]=sum\n",
        "print(PS)\n"
      ],
      "metadata": {
        "colab": {
          "base_uri": "https://localhost:8080/"
        },
        "id": "afmgVj3fMg4u",
        "outputId": "e853b64d-619a-4176-d288-9f33e68db8e2"
      },
      "execution_count": null,
      "outputs": [
        {
          "output_type": "stream",
          "name": "stdout",
          "text": [
            "[0, 0, 0, 0]\n",
            "[6, 14, 13, 20]\n"
          ]
        }
      ]
    },
    {
      "cell_type": "code",
      "source": [
        "sum=0\n",
        "N=len(A)\n",
        "for i in range(N):\n",
        "  \n",
        "  for j in range(i,N):\n",
        "    sum=0\n",
        "    if i == 0:\n",
        "      sum = sum + PS[j]\n",
        "    else:\n",
        "      sum= sum +(PS[j] - PS[i-1])\n",
        "    print(sum)     "
      ],
      "metadata": {
        "colab": {
          "base_uri": "https://localhost:8080/"
        },
        "id": "7khNuGWoLKGN",
        "outputId": "4c900eef-d707-4e25-e62a-3ba368101a82"
      },
      "execution_count": null,
      "outputs": [
        {
          "output_type": "stream",
          "name": "stdout",
          "text": [
            "6\n",
            "14\n",
            "13\n",
            "20\n",
            "8\n",
            "7\n",
            "14\n",
            "-1\n",
            "6\n",
            "7\n"
          ]
        }
      ]
    },
    {
      "cell_type": "code",
      "source": [
        "#TC: O(N+N**2)= O(N**2)\n",
        "#SC: O(1)"
      ],
      "metadata": {
        "id": "Xcz7LvZPNTBr"
      },
      "execution_count": null,
      "outputs": []
    },
    {
      "cell_type": "code",
      "source": [
        "A"
      ],
      "metadata": {
        "colab": {
          "base_uri": "https://localhost:8080/"
        },
        "id": "r8EYvlOKRJm9",
        "outputId": "9fc0c012-45d0-4d55-e607-20017436a5b1"
      },
      "execution_count": null,
      "outputs": [
        {
          "output_type": "execute_result",
          "data": {
            "text/plain": [
              "[6, 8, -1, 7]"
            ]
          },
          "metadata": {},
          "execution_count": 52
        }
      ]
    },
    {
      "cell_type": "code",
      "source": [
        "#Approach3: Carry Forward Technique\n",
        "\n",
        "N=len(A)\n",
        "ans=0\n",
        "for i in range(N):\n",
        "  sum=0\n",
        "  for j in range(i,N):\n",
        "    sum=sum+A[j]\n",
        "    print(sum, end=\" \")    \n"
      ],
      "metadata": {
        "colab": {
          "base_uri": "https://localhost:8080/"
        },
        "id": "BrFe7KkfOkm-",
        "outputId": "165b93b0-10fd-4b1a-c320-d9ac8fbcd400"
      },
      "execution_count": null,
      "outputs": [
        {
          "output_type": "stream",
          "name": "stdout",
          "text": [
            "6 14 13 20 8 7 14 -1 6 7 "
          ]
        }
      ]
    },
    {
      "cell_type": "code",
      "source": [
        "#TC: O(N**2)\n",
        "#SC: O(1)"
      ],
      "metadata": {
        "id": "uoBTpItFRW0E"
      },
      "execution_count": null,
      "outputs": []
    },
    {
      "cell_type": "code",
      "source": [
        "#IMPORTANT for Interview\n",
        "#Given Arr(N), returns sum of all Sub Arrays Sum"
      ],
      "metadata": {
        "id": "0SXRElJIUKie"
      },
      "execution_count": null,
      "outputs": []
    },
    {
      "cell_type": "code",
      "source": [
        "N=len(A)\n",
        "ans=0\n",
        "for i in range(N):\n",
        "  sum=0\n",
        "  for j in range(i,N):\n",
        "    sum=sum+A[j]\n",
        "    ans=ans+sum\n",
        "    \n",
        "\n",
        "print(ans)    \n"
      ],
      "metadata": {
        "colab": {
          "base_uri": "https://localhost:8080/"
        },
        "id": "JcGmFqMBVO5_",
        "outputId": "19d526cd-04e6-4a35-9d96-85060b80b260"
      },
      "execution_count": null,
      "outputs": [
        {
          "output_type": "stream",
          "name": "stdout",
          "text": [
            "94\n"
          ]
        }
      ]
    },
    {
      "cell_type": "code",
      "source": [
        "##In how many Sub arrays element at index 3 is present?"
      ],
      "metadata": {
        "id": "RAzi1GkFkHBL"
      },
      "execution_count": null,
      "outputs": []
    },
    {
      "cell_type": "code",
      "source": [
        "(N-i)*(i+1)"
      ],
      "metadata": {
        "id": "Ip3VRw5ikq9F"
      },
      "execution_count": null,
      "outputs": []
    },
    {
      "cell_type": "code",
      "source": [
        "#Contribution technique"
      ],
      "metadata": {
        "id": "9CrdsCqwm3kk"
      },
      "execution_count": null,
      "outputs": []
    },
    {
      "cell_type": "code",
      "source": [
        "def TotalSum(A):\n",
        "  N=len(A)\n",
        "  ans=0\n",
        "  #Compute contribution by ith index\n",
        "  for i in range(N):\n",
        "    freq=(N-i)*(i+1)\n",
        "    contribution=A[i] * freq\n",
        "    ans= ans+contribution\n",
        "  return ans  "
      ],
      "metadata": {
        "id": "zIN9oLeBm3yr"
      },
      "execution_count": null,
      "outputs": []
    },
    {
      "cell_type": "code",
      "source": [
        "TotalSum(A)\n"
      ],
      "metadata": {
        "colab": {
          "base_uri": "https://localhost:8080/"
        },
        "id": "xPCxcC59oRjC",
        "outputId": "baf76726-1634-45c7-8e16-a35b82f9c619"
      },
      "execution_count": null,
      "outputs": [
        {
          "output_type": "execute_result",
          "data": {
            "text/plain": [
              "94"
            ]
          },
          "metadata": {},
          "execution_count": 73
        }
      ]
    },
    {
      "cell_type": "code",
      "source": [
        "#TC: O(N)\n",
        "#SC:"
      ],
      "metadata": {
        "id": "_reJ-U7XoWqt"
      },
      "execution_count": null,
      "outputs": []
    },
    {
      "cell_type": "markdown",
      "source": [
        "Given an array A of length N, return the subarray from B to C."
      ],
      "metadata": {
        "id": "c8zha__RHITQ"
      }
    },
    {
      "cell_type": "code",
      "source": [
        "A=[4,3,2,6]\n",
        "B=1\n",
        "C=3"
      ],
      "metadata": {
        "id": "G5L_4e0KHI3B"
      },
      "execution_count": null,
      "outputs": []
    },
    {
      "cell_type": "code",
      "source": [
        "def subArray(A,B,C):\n",
        "  N=len(A)\n",
        "  for i in range(B,C+1):\n",
        "    print(A[i], end=\" \")\n"
      ],
      "metadata": {
        "id": "6u8J-qJAHkEF"
      },
      "execution_count": null,
      "outputs": []
    },
    {
      "cell_type": "code",
      "source": [
        "subArray(A,B,C)"
      ],
      "metadata": {
        "colab": {
          "base_uri": "https://localhost:8080/"
        },
        "id": "bTP5eQgzRQ53",
        "outputId": "df5cc4a5-d9b8-4851-9d57-eae9afee56e7"
      },
      "execution_count": null,
      "outputs": [
        {
          "output_type": "stream",
          "name": "stdout",
          "text": [
            "3 2 6 "
          ]
        }
      ]
    },
    {
      "cell_type": "code",
      "source": [],
      "metadata": {
        "id": "dyLDN3t2Rdwm"
      },
      "execution_count": null,
      "outputs": []
    },
    {
      "cell_type": "markdown",
      "source": [
        "You are given an integer array C of size A. Now you need to find a subarray (contiguous elements) so that the sum of contiguous elements is maximum.\n",
        "But the sum must not exceed B."
      ],
      "metadata": {
        "id": "Vbx09dvFGUMb"
      }
    },
    {
      "cell_type": "code",
      "source": [
        "A = 5\n",
        "B = 12\n",
        "C = [2, 1, 3, 4, 5]\n",
        "OP: 12"
      ],
      "metadata": {
        "id": "HJpvnJL1GwIq"
      },
      "execution_count": null,
      "outputs": []
    },
    {
      "cell_type": "code",
      "source": [
        "class Solution:\n",
        "    def maxSubarray(self, A, B, C):\n",
        "      maxsum=0\n",
        "      for i in range(A):\n",
        "        sum=0\n",
        "        for j in range(i,A):\n",
        "          sum=sum+C[j]\n",
        "          \n",
        "          if sum > maxsum and sum <= B: \n",
        "            maxsum=sum\n",
        "            \n",
        "      return maxsum  \n"
      ],
      "metadata": {
        "id": "fFsrIlKMGymY"
      },
      "execution_count": null,
      "outputs": []
    },
    {
      "cell_type": "code",
      "source": [
        "A = 3\n",
        "B = 1\n",
        "C = [2, 2, 2]\n",
        "s = Solution()\n",
        "t = s.maxSubarray(A,B,C)\n",
        "print(t)"
      ],
      "metadata": {
        "colab": {
          "base_uri": "https://localhost:8080/"
        },
        "id": "I4R1bOhfIacN",
        "outputId": "3c21aeb2-ebd3-400e-8b47-8e7715376c73"
      },
      "execution_count": null,
      "outputs": [
        {
          "output_type": "stream",
          "name": "stdout",
          "text": [
            "0\n"
          ]
        }
      ]
    },
    {
      "cell_type": "code",
      "source": [
        "t"
      ],
      "metadata": {
        "colab": {
          "base_uri": "https://localhost:8080/"
        },
        "id": "WPZe9RbPIhuo",
        "outputId": "97511389-5041-4a44-fef7-cc1afb52ab1b"
      },
      "execution_count": null,
      "outputs": [
        {
          "output_type": "execute_result",
          "data": {
            "text/plain": [
              "0"
            ]
          },
          "metadata": {},
          "execution_count": 34
        }
      ]
    },
    {
      "cell_type": "code",
      "source": [],
      "metadata": {
        "id": "C6XpDJFnKG26"
      },
      "execution_count": null,
      "outputs": []
    },
    {
      "cell_type": "markdown",
      "source": [
        "Given an array of integers A, a subarray of an array is said to be good if it fulfills any one of the criteria:\n",
        "1. Length of the subarray is be even, and the sum of all the elements of the subarray must be less than B.\n",
        "2. Length of the subarray is be odd, and the sum of all the elements of the subarray must be greater than B.\n",
        "Your task is to find the count of good subarrays in A."
      ],
      "metadata": {
        "id": "3tiv2ax5dhsX"
      }
    },
    {
      "cell_type": "code",
      "source": [
        "class Solution:\n",
        "    def solve(self, A, B):\n",
        "      N=len(A)\n",
        "      countGA=0\n",
        "      for i in range(N):\n",
        "        sum=0\n",
        "        for j in range(i,N):\n",
        "          sum+=A[j]\n",
        "          print(sum, end =\" \")\n",
        "          s=i\n",
        "          e=j\n",
        "          subArraylen=e-i+1\n",
        "          print(\"Subarray length = \", subArraylen)\n",
        "          if (subArraylen % 2==0 and sum < B) or (subArraylen % 2 !=0 and sum > B):\n",
        "            countGA+=1\n",
        "      return countGA      \n",
        "\n"
      ],
      "metadata": {
        "id": "RO-dQO16diiM"
      },
      "execution_count": null,
      "outputs": []
    },
    {
      "cell_type": "markdown",
      "source": [],
      "metadata": {
        "id": "95eK2C5otSE7"
      }
    },
    {
      "cell_type": "code",
      "source": [
        "A = [1, 2, 3, 4, 5]\n",
        "B = 4\n",
        "s= Solution()\n",
        "result = s.solve(A,B)\n",
        "print(\"result\", result)\n"
      ],
      "metadata": {
        "colab": {
          "base_uri": "https://localhost:8080/"
        },
        "id": "RqGXkLhJd-ol",
        "outputId": "3ae39d30-5ccf-49d8-ee74-326237f16595"
      },
      "execution_count": null,
      "outputs": [
        {
          "output_type": "stream",
          "name": "stdout",
          "text": [
            "1 Subarray length =  1\n",
            "3 Subarray length =  2\n",
            "6 Subarray length =  3\n",
            "10 Subarray length =  4\n",
            "15 Subarray length =  5\n",
            "2 Subarray length =  1\n",
            "5 Subarray length =  2\n",
            "9 Subarray length =  3\n",
            "14 Subarray length =  4\n",
            "3 Subarray length =  1\n",
            "7 Subarray length =  2\n",
            "12 Subarray length =  3\n",
            "4 Subarray length =  1\n",
            "9 Subarray length =  2\n",
            "5 Subarray length =  1\n",
            "result 6\n"
          ]
        }
      ]
    },
    {
      "cell_type": "code",
      "source": [
        "A = [13, 16, 16, 15, 9, 16, 2, 7, 6, 17, 3, 9]\n",
        "B = 65\n",
        "s= Solution()\n",
        "result = s.solve(A,B)\n",
        "print(\"result\", result)\n"
      ],
      "metadata": {
        "colab": {
          "base_uri": "https://localhost:8080/"
        },
        "id": "YwC6Gu0_eGWx",
        "outputId": "95f6c06e-3c57-46bc-ce2a-0aae92537aca"
      },
      "execution_count": null,
      "outputs": [
        {
          "output_type": "stream",
          "name": "stdout",
          "text": [
            "13 Subarray length =  1\n",
            "29 Subarray length =  2\n",
            "45 Subarray length =  3\n",
            "60 Subarray length =  4\n",
            "69 Subarray length =  5\n",
            "85 Subarray length =  6\n",
            "87 Subarray length =  7\n",
            "94 Subarray length =  8\n",
            "100 Subarray length =  9\n",
            "117 Subarray length =  10\n",
            "120 Subarray length =  11\n",
            "129 Subarray length =  12\n",
            "16 Subarray length =  1\n",
            "32 Subarray length =  2\n",
            "47 Subarray length =  3\n",
            "56 Subarray length =  4\n",
            "72 Subarray length =  5\n",
            "74 Subarray length =  6\n",
            "81 Subarray length =  7\n",
            "87 Subarray length =  8\n",
            "104 Subarray length =  9\n",
            "107 Subarray length =  10\n",
            "116 Subarray length =  11\n",
            "16 Subarray length =  1\n",
            "31 Subarray length =  2\n",
            "40 Subarray length =  3\n",
            "56 Subarray length =  4\n",
            "58 Subarray length =  5\n",
            "65 Subarray length =  6\n",
            "71 Subarray length =  7\n",
            "88 Subarray length =  8\n",
            "91 Subarray length =  9\n",
            "100 Subarray length =  10\n",
            "15 Subarray length =  1\n",
            "24 Subarray length =  2\n",
            "40 Subarray length =  3\n",
            "42 Subarray length =  4\n",
            "49 Subarray length =  5\n",
            "55 Subarray length =  6\n",
            "72 Subarray length =  7\n",
            "75 Subarray length =  8\n",
            "84 Subarray length =  9\n",
            "9 Subarray length =  1\n",
            "25 Subarray length =  2\n",
            "27 Subarray length =  3\n",
            "34 Subarray length =  4\n",
            "40 Subarray length =  5\n",
            "57 Subarray length =  6\n",
            "60 Subarray length =  7\n",
            "69 Subarray length =  8\n",
            "16 Subarray length =  1\n",
            "18 Subarray length =  2\n",
            "25 Subarray length =  3\n",
            "31 Subarray length =  4\n",
            "48 Subarray length =  5\n",
            "51 Subarray length =  6\n",
            "60 Subarray length =  7\n",
            "2 Subarray length =  1\n",
            "9 Subarray length =  2\n",
            "15 Subarray length =  3\n",
            "32 Subarray length =  4\n",
            "35 Subarray length =  5\n",
            "44 Subarray length =  6\n",
            "7 Subarray length =  1\n",
            "13 Subarray length =  2\n",
            "30 Subarray length =  3\n",
            "33 Subarray length =  4\n",
            "42 Subarray length =  5\n",
            "6 Subarray length =  1\n",
            "23 Subarray length =  2\n",
            "26 Subarray length =  3\n",
            "35 Subarray length =  4\n",
            "17 Subarray length =  1\n",
            "20 Subarray length =  2\n",
            "29 Subarray length =  3\n",
            "3 Subarray length =  1\n",
            "12 Subarray length =  2\n",
            "9 Subarray length =  1\n",
            "result 36\n"
          ]
        }
      ]
    },
    {
      "cell_type": "markdown",
      "source": [],
      "metadata": {
        "id": "awg1QmuBtUGr"
      }
    },
    {
      "cell_type": "markdown",
      "source": [
        "You are given an integer array A of length N comprising of 0's & 1's, and an integer B.\n",
        "\n",
        "You have to tell all the indices of array A that can act as a center of 2 * B + 1 length 0-1 alternating subarray.\n",
        "\n",
        "A 0-1 alternating array is an array containing only 0's & 1's, and having no adjacent 0's or 1's. For e.g. arrays [0, 1, 0, 1], [1, 0] and [1] are 0-1 alternating, while [1, 1] and [0, 1, 0, 0, 1] are not.\n",
        "\n"
      ],
      "metadata": {
        "id": "k_dydWGotaAE"
      }
    },
    {
      "cell_type": "code",
      "source": [
        "class Solution:\n",
        "    def solve(self, A, B):\n",
        "        l1 = []\n",
        "        n = len(A)\n",
        "        length = 2 * B + 1\n",
        "        for i in range(n - length + 1):\n",
        "            curr = -1\n",
        "            flag = 1\n",
        "            for j in range(i, i + length):\n",
        "                if (A[j] == curr):\n",
        "                    flag = 0\n",
        "                    break\n",
        "                curr = A[j]\n",
        "            if (flag == 1):\n",
        "                l1.append(i + B)\n",
        "        return l1\n"
      ],
      "metadata": {
        "id": "7dn5WIwX9_s5"
      },
      "execution_count": null,
      "outputs": []
    },
    {
      "cell_type": "code",
      "source": [
        "A = [1, 0, 1, 0, 1]\n",
        "B = 1\n",
        "s=Solution()\n",
        "s.solve(A,B)"
      ],
      "metadata": {
        "colab": {
          "base_uri": "https://localhost:8080/"
        },
        "id": "Vb7ES7YRPkSd",
        "outputId": "88e975ee-2132-44a3-e187-595a507b1e3d"
      },
      "execution_count": null,
      "outputs": [
        {
          "output_type": "execute_result",
          "data": {
            "text/plain": [
              "[1, 2, 3]"
            ]
          },
          "metadata": {},
          "execution_count": 5
        }
      ]
    },
    {
      "cell_type": "code",
      "source": [
        "A = [0, 0, 0, 1, 1, 0, 1]\n",
        "B = 0\n",
        "s=Solution()\n",
        "s.solve(A,B)\n"
      ],
      "metadata": {
        "colab": {
          "base_uri": "https://localhost:8080/"
        },
        "id": "KEPibd6BO0h4",
        "outputId": "88e1310a-d74a-49be-a401-be6eedaccfc2"
      },
      "execution_count": null,
      "outputs": [
        {
          "output_type": "execute_result",
          "data": {
            "text/plain": [
              "[0, 1, 2, 3, 4, 5, 6]"
            ]
          },
          "metadata": {},
          "execution_count": 4
        }
      ]
    },
    {
      "cell_type": "code",
      "source": [],
      "metadata": {
        "id": "l3_R1vVdPpyO"
      },
      "execution_count": null,
      "outputs": []
    },
    {
      "cell_type": "markdown",
      "source": [
        "\n",
        "Given an array A of N non-negative numbers and a non-negative number B,\n",
        "you need to find the number of subarrays in A with a sum less than B.\n",
        "We may assume that there is no overflow"
      ],
      "metadata": {
        "id": "mxpjLrAxtvCL"
      }
    },
    {
      "cell_type": "code",
      "source": [
        "class Solution:\n",
        "    def solve(self, A, B):\n",
        "      N=len(A)\n",
        "      count=0\n",
        "      for i in range(N):\n",
        "        sum=0\n",
        "        for j in range(i,N):\n",
        "          sum=sum+A[j]\n",
        "          #print(sum, end=' ')\n",
        "          if sum < B:\n",
        "            count+=1\n",
        "      return count       \n"
      ],
      "metadata": {
        "id": "3llJqjmXtxuC"
      },
      "execution_count": 8,
      "outputs": []
    },
    {
      "cell_type": "code",
      "source": [
        "A = [2, 5, 6]\n",
        "B = 10\n",
        "s=Solution()\n",
        "s.solve(A,B)"
      ],
      "metadata": {
        "colab": {
          "base_uri": "https://localhost:8080/"
        },
        "id": "mZwvtq0nuGkD",
        "outputId": "d66c7a05-ceb0-47aa-ef79-7733fe816895"
      },
      "execution_count": 9,
      "outputs": [
        {
          "output_type": "execute_result",
          "data": {
            "text/plain": [
              "4"
            ]
          },
          "metadata": {},
          "execution_count": 9
        }
      ]
    },
    {
      "cell_type": "code",
      "source": [],
      "metadata": {
        "id": "-sOw4_qTuP8B"
      },
      "execution_count": null,
      "outputs": []
    }
  ]
}