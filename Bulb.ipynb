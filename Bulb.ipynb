{
  "nbformat": 4,
  "nbformat_minor": 0,
  "metadata": {
    "colab": {
      "provenance": [],
      "authorship_tag": "ABX9TyPCMgcanDgrmG+d35Hz+UHR",
      "include_colab_link": true
    },
    "kernelspec": {
      "name": "python3",
      "display_name": "Python 3"
    },
    "language_info": {
      "name": "python"
    }
  },
  "cells": [
    {
      "cell_type": "markdown",
      "metadata": {
        "id": "view-in-github",
        "colab_type": "text"
      },
      "source": [
        "<a href=\"https://colab.research.google.com/github/ekta0708/ektarepo/blob/master/Bulb.ipynb\" target=\"_parent\"><img src=\"https://colab.research.google.com/assets/colab-badge.svg\" alt=\"Open In Colab\"/></a>"
      ]
    },
    {
      "cell_type": "code",
      "execution_count": null,
      "metadata": {
        "id": "An2FTkQQK6Cn"
      },
      "outputs": [],
      "source": []
    },
    {
      "cell_type": "markdown",
      "source": [
        "A wire connects N light bulbs.\n",
        "\n",
        "Each bulb has a switch associated with it; however, due to faulty wiring, a switch also changes the state of all the bulbs to the right of the current bulb.\n",
        "\n",
        "Given an initial state of all bulbs, find the minimum number of switches you have to press to turn on all the bulbs.\n",
        "\n",
        "You can press the same switch multiple times.\n",
        "\n",
        "Note: 0 represents the bulb is off and 1 represents the bulb is on."
      ],
      "metadata": {
        "id": "64WAdG0VK9PI"
      }
    },
    {
      "cell_type": "code",
      "source": [
        "class Solution:\n",
        "  def bulbs(self, A):\n",
        "   N=len(A)\n",
        "   count=0\n",
        "   for i in range(N):\n",
        "     if A[i] == 0 and count%2==0:\n",
        "       count+=1\n",
        "     elif A[i] == 0 and count%2!=0:\n",
        "       continue\n",
        "     elif A[i] == 1 and count%2==0:\n",
        "      continue\n",
        "     elif A[i] ==1 and count%2!=0:\n",
        "       count+=1\n",
        "   return count                 \n",
        "\n"
      ],
      "metadata": {
        "id": "9FVW98MKK-gK"
      },
      "execution_count": 11,
      "outputs": []
    },
    {
      "cell_type": "code",
      "source": [
        "s=Solution()\n",
        "s.bulbs([0,1,0,1])"
      ],
      "metadata": {
        "colab": {
          "base_uri": "https://localhost:8080/"
        },
        "id": "Ze89OkCGLCIH",
        "outputId": "42b11917-4a61-4237-96b0-851ebbed74ba"
      },
      "execution_count": 13,
      "outputs": [
        {
          "output_type": "execute_result",
          "data": {
            "text/plain": [
              "4"
            ]
          },
          "metadata": {},
          "execution_count": 13
        }
      ]
    },
    {
      "cell_type": "code",
      "source": [],
      "metadata": {
        "id": "7-Snfy-vLGrK"
      },
      "execution_count": null,
      "outputs": []
    }
  ]
}